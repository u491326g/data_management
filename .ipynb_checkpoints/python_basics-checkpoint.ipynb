{
 "cells": [
  {
   "cell_type": "markdown",
   "metadata": {
    "slideshow": {
     "slide_type": "slide"
    }
   },
   "source": [
    "# Data Management (Spring/Summer 2018) at OSIPP, Osaka U\n",
    "By Shuhei Kitamura\n",
    "\n",
    "## Python basics"
   ]
  },
  {
   "cell_type": "markdown",
   "metadata": {
    "slideshow": {
     "slide_type": "notes"
    }
   },
   "source": [
    "### Outline\n",
    "1. Arithmetic operation\n",
    "2. Run Python scripts\n",
    "3. Variables and Objects\n",
    "    - Variable assignment\n",
    "    - Types\n",
    "    - Concatenation and other operations\n",
    "    - Lists\n",
    "    - Dictionaries\n",
    "    - Tuples        \n",
    "5. Functions\n",
    "6. Methods\n",
    "7. Modules and Packages\n",
    "8. If Statements\n",
    "9. Loops\n",
    "10. NumPy\n",
    "11. pandas\n",
    "    - Get elements\n",
    "    - Change contents\n",
    "    - Computation\n",
    "    - Treat missing values\n",
    "    - Merge"
   ]
  },
  {
   "cell_type": "markdown",
   "metadata": {
    "slideshow": {
     "slide_type": "slide"
    }
   },
   "source": [
    "## 1. Arithmetic operation\n",
    "- Main operators are `+`, `-`, `*`, and `/`.\n",
    "- Write `1 + 2` and execute (Shift + Enter or push \"run cell\" button). Next, do the same for `print(1 + 2)`."
   ]
  },
  {
   "cell_type": "code",
   "execution_count": null,
   "metadata": {
    "slideshow": {
     "slide_type": "-"
    }
   },
   "outputs": [],
   "source": []
  },
  {
   "cell_type": "markdown",
   "metadata": {
    "slideshow": {
     "slide_type": "subslide"
    }
   },
   "source": [
    "- If you want to write a comment, use `#`.\n",
    "- Write `# print(1 + 2)` and execute."
   ]
  },
  {
   "cell_type": "code",
   "execution_count": null,
   "metadata": {
    "slideshow": {
     "slide_type": "-"
    }
   },
   "outputs": [],
   "source": []
  },
  {
   "cell_type": "markdown",
   "metadata": {
    "slideshow": {
     "slide_type": "subslide"
    }
   },
   "source": [
    "- Compute 1 + 2 / 3 - 4 * 5 and print."
   ]
  },
  {
   "cell_type": "code",
   "execution_count": null,
   "metadata": {
    "slideshow": {
     "slide_type": "-"
    }
   },
   "outputs": [],
   "source": []
  },
  {
   "cell_type": "markdown",
   "metadata": {
    "slideshow": {
     "slide_type": "subslide"
    }
   },
   "source": [
    "- `**` for power. Power is right associative. \n",
    "- Calculate $-2^3$, $3^{3^3}$, and $\\frac{3}{3^3}$."
   ]
  },
  {
   "cell_type": "code",
   "execution_count": null,
   "metadata": {
    "slideshow": {
     "slide_type": "-"
    }
   },
   "outputs": [],
   "source": []
  },
  {
   "cell_type": "markdown",
   "metadata": {
    "slideshow": {
     "slide_type": "subslide"
    }
   },
   "source": [
    "- `%` for modulus and `//` for floor division.\n",
    "- Calculate `7 % 2`. How about `7 // 2`?"
   ]
  },
  {
   "cell_type": "code",
   "execution_count": null,
   "metadata": {
    "slideshow": {
     "slide_type": "-"
    }
   },
   "outputs": [],
   "source": []
  },
  {
   "cell_type": "markdown",
   "metadata": {
    "slideshow": {
     "slide_type": "slide"
    }
   },
   "source": [
    "## 2. Run Python scripts\n",
    "- Launch a text editor (e.g. Visual Studio Code). Create a new file.\n",
    "<!--\n",
    "![Alt text](https://github.com/urbsu/dm_tutorial/blob/master/sources/python7.PNG?raw=true)\n",
    "-->\n",
    "![Alt text](./sources/python7.png)\n",
    "- Type `print(1 + 2)` in line 1, and `3 + 4` in line 2.\n",
    "- Save the file in your repository. Type the file name (e.g., \"mypython\"), and set Python for the file type. The file extension becomes \".py\"."
   ]
  },
  {
   "cell_type": "markdown",
   "metadata": {
    "slideshow": {
     "slide_type": "subslide"
    }
   },
   "source": [
    "- Check the current directory using `getcwd()` in the `os` package.\n",
    "    - We will talk about packages later.\n",
    "- If it is not your local repository, set the current directory by typing: `cd \"C:\\path_to_your_local_repository\"` where you need to specify the path to your local repository."
   ]
  },
  {
   "cell_type": "code",
   "execution_count": null,
   "metadata": {
    "slideshow": {
     "slide_type": "-"
    }
   },
   "outputs": [],
   "source": [
    "import os\n",
    "os.getcwd()"
   ]
  },
  {
   "cell_type": "markdown",
   "metadata": {
    "slideshow": {
     "slide_type": "subslide"
    }
   },
   "source": [
    "- Run a Python script by typing: `run mypython.py`. \n",
    "- Open \"mypython.py\". Change line 2 to `print(3 + 4)`, save, and close. \n",
    "- Execute `run mypython.py` again. Do you see the difference?"
   ]
  },
  {
   "cell_type": "code",
   "execution_count": null,
   "metadata": {
    "collapsed": true,
    "slideshow": {
     "slide_type": "-"
    }
   },
   "outputs": [],
   "source": []
  },
  {
   "cell_type": "markdown",
   "metadata": {
    "slideshow": {
     "slide_type": "subslide"
    }
   },
   "source": [
    "- Let's push the new file to your remote repository. Start SoureTree.\n",
    "- Stage \"mypython.py.\"\n",
    "- Commit and push (commit message = e.g. \"Create mypython.py.\")."
   ]
  },
  {
   "cell_type": "markdown",
   "metadata": {
    "slideshow": {
     "slide_type": "slide"
    }
   },
   "source": [
    "## 3. Variables and Objects\n",
    "- You make a variable and assign your \"data\" to it. \"Data\" are also called objects in Python.\n",
    "- For example, `x = 1` creates a variable with a name `x`, and assigns object `1` to that variable.\n",
    "    - Try `x = x + 1`. You should get an error. Why?"
   ]
  },
  {
   "cell_type": "code",
   "execution_count": null,
   "metadata": {
    "slideshow": {
     "slide_type": "-"
    }
   },
   "outputs": [],
   "source": []
  },
  {
   "cell_type": "markdown",
   "metadata": {
    "slideshow": {
     "slide_type": "subslide"
    }
   },
   "source": [
    "#### - Variable assignment\n",
    "- To assign an object to a variable, type like this:\n",
    "```python\n",
    "mysum = 1 + 2\n",
    "print(mysum)\n",
    "```\n",
    "- If you do not need to define a variable, just type:\n",
    "```python\n",
    "print(1 + 2)\n",
    "```"
   ]
  },
  {
   "cell_type": "code",
   "execution_count": null,
   "metadata": {
    "slideshow": {
     "slide_type": "-"
    }
   },
   "outputs": [],
   "source": []
  },
  {
   "cell_type": "markdown",
   "metadata": {
    "slideshow": {
     "slide_type": "subslide"
    }
   },
   "source": [
    "- You can make more than one variable at once.\n",
    "- You can also print several values at once.\n",
    "- Try:\n",
    "```python\n",
    "a, b = 1, 2\n",
    "c = d = 1\n",
    "print(a, b)\n",
    "print(a); print(b)\n",
    "print(c, d)\n",
    "```"
   ]
  },
  {
   "cell_type": "code",
   "execution_count": null,
   "metadata": {
    "slideshow": {
     "slide_type": "-"
    }
   },
   "outputs": [],
   "source": []
  },
  {
   "cell_type": "markdown",
   "metadata": {
    "slideshow": {
     "slide_type": "subslide"
    }
   },
   "source": [
    "#### - Types\n",
    "- An object has a unique type. Major types are: numbers (floats, integers), strings, booleans, lists, tuples, and dictionaries.\n",
    "- Use `type()` to check the type.\n",
    "- Check the type of:\n",
    "```python\n",
    "myint = 1\n",
    "myfloat = 1.0\n",
    "mystr = \"Hello\"\n",
    "mybool = True\n",
    "```    "
   ]
  },
  {
   "cell_type": "code",
   "execution_count": null,
   "metadata": {
    "slideshow": {
     "slide_type": "-"
    }
   },
   "outputs": [],
   "source": []
  },
  {
   "cell_type": "markdown",
   "metadata": {
    "slideshow": {
     "slide_type": "subslide"
    }
   },
   "source": [
    "- What are the type of `True` and `\"True\"`?"
   ]
  },
  {
   "cell_type": "code",
   "execution_count": null,
   "metadata": {
    "slideshow": {
     "slide_type": "-"
    }
   },
   "outputs": [],
   "source": []
  },
  {
   "cell_type": "markdown",
   "metadata": {
    "slideshow": {
     "slide_type": "subslide"
    }
   },
   "source": [
    "- If a string includes a quote like `\"This is a \"quote\"\"`, it returns an error. In this case, use `'This is a \"quote\"'` instead.\n",
    "- Try both:"
   ]
  },
  {
   "cell_type": "code",
   "execution_count": null,
   "metadata": {
    "slideshow": {
     "slide_type": "-"
    }
   },
   "outputs": [],
   "source": []
  },
  {
   "cell_type": "markdown",
   "metadata": {
    "slideshow": {
     "slide_type": "subslide"
    }
   },
   "source": [
    "- What are the outcome of `1 + 2` and `1 + 2 == 3`? Print them. Also check the type."
   ]
  },
  {
   "cell_type": "code",
   "execution_count": null,
   "metadata": {
    "slideshow": {
     "slide_type": "-"
    }
   },
   "outputs": [],
   "source": []
  },
  {
   "cell_type": "markdown",
   "metadata": {
    "slideshow": {
     "slide_type": "subslide"
    }
   },
   "source": [
    "- You can change the type of an object by using `float()`, `int()`, `str()`, and `bool()`.\n",
    "- Write `myint = 1`, then print. Convert to float, then print again."
   ]
  },
  {
   "cell_type": "code",
   "execution_count": null,
   "metadata": {
    "slideshow": {
     "slide_type": "-"
    }
   },
   "outputs": [],
   "source": []
  },
  {
   "cell_type": "markdown",
   "metadata": {
    "slideshow": {
     "slide_type": "subslide"
    }
   },
   "source": [
    "- These functions assign a new object representing the converted value, rather than changing the object itself.\n",
    "    - This applies to *immutable* types, i.e., float, int, str, and tuple.\n",
    "- To see this, type:\n",
    "```python\n",
    "print(1)\n",
    "print(float(1))\n",
    "print(type(float(1)))\n",
    "```"
   ]
  },
  {
   "cell_type": "code",
   "execution_count": null,
   "metadata": {
    "slideshow": {
     "slide_type": "-"
    }
   },
   "outputs": [],
   "source": []
  },
  {
   "cell_type": "markdown",
   "metadata": {
    "slideshow": {
     "slide_type": "subslide"
    }
   },
   "source": [
    "- `False` is `0` and `0` is `False`. `True` is `1` and `1` is `True`.\n",
    "- Most of the rest of objects are also `True`.\n",
    "- Try:\n",
    "```python\n",
    "print(int(False),bool(0))\n",
    "print(int(True),bool(1))\n",
    "print(bool(\"Hello\"))\n",
    "```"
   ]
  },
  {
   "cell_type": "code",
   "execution_count": null,
   "metadata": {
    "slideshow": {
     "slide_type": "-"
    }
   },
   "outputs": [],
   "source": []
  },
  {
   "cell_type": "markdown",
   "metadata": {
    "slideshow": {
     "slide_type": "subslide"
    }
   },
   "source": [
    "- The type of `None` is `NoneType`. `None` is `False`.\n",
    "- Type:\n",
    "```python\n",
    "print(type(None))\n",
    "print(bool(None))\n",
    "```"
   ]
  },
  {
   "cell_type": "code",
   "execution_count": null,
   "metadata": {
    "slideshow": {
     "slide_type": "-"
    }
   },
   "outputs": [],
   "source": []
  },
  {
   "cell_type": "markdown",
   "metadata": {
    "slideshow": {
     "slide_type": "subslide"
    }
   },
   "source": [
    "#### - Concatenation and other operations\n",
    "- You can use `+` and `*` for strings and booleans.\n",
    "- Try:\n",
    "```python\n",
    "print(\"He\" + \"l\" * 2 + \"o!\") \n",
    "print(True + False) \n",
    "```\n",
    "- What is the outcome of `True * 2`? Try it."
   ]
  },
  {
   "cell_type": "code",
   "execution_count": null,
   "metadata": {
    "slideshow": {
     "slide_type": "-"
    }
   },
   "outputs": [],
   "source": []
  },
  {
   "cell_type": "markdown",
   "metadata": {
    "slideshow": {
     "slide_type": "subslide"
    }
   },
   "source": [
    "- You cannot include both numbers and strings at once with `+` operator.\n",
    "- Try:\n",
    "```python\n",
    "print(\"I have \" + savings + \" USD in my account.\")\n",
    "```\n",
    "-Next, try:\n",
    "```python\n",
    "print(\"I have \" + str(savings) + \" USD in my account.\")  \n",
    "```\n",
    "- You often use the above form or the following form when you use a loop.\n",
    "```python\n",
    "print(\"I have \", savings, \" USD in my account.\")  \n",
    "```"
   ]
  },
  {
   "cell_type": "code",
   "execution_count": 74,
   "metadata": {
    "slideshow": {
     "slide_type": "-"
    }
   },
   "outputs": [],
   "source": [
    "savings = 100"
   ]
  },
  {
   "cell_type": "markdown",
   "metadata": {
    "slideshow": {
     "slide_type": "subslide"
    }
   },
   "source": [
    "#### - Lists\n",
    "- Lists are a type of the object (like str, float, etc.).\n",
    "- A list can contain any Python type including a list.\n",
    "- Print the following list. Also, check the type."
   ]
  },
  {
   "cell_type": "code",
   "execution_count": 3,
   "metadata": {
    "slideshow": {
     "slide_type": "-"
    }
   },
   "outputs": [],
   "source": [
    "mylist1 = [\"sam\", 1.75, \"sara\", 1.82] # mylist1 contains strings and numbers.\n",
    "mylist2 = [[\"sam\", 1.75], [\"sara\", 1.82]] # mylist2 contains lists, and each list contains a string and a number."
   ]
  },
  {
   "cell_type": "markdown",
   "metadata": {
    "slideshow": {
     "slide_type": "subslide"
    }
   },
   "source": [
    "- An empty list can be made by writing, e.g., `mylist = []`.\n",
    "- Make an empty list and check the type."
   ]
  },
  {
   "cell_type": "code",
   "execution_count": null,
   "metadata": {
    "slideshow": {
     "slide_type": "-"
    }
   },
   "outputs": [],
   "source": []
  },
  {
   "cell_type": "markdown",
   "metadata": {
    "slideshow": {
     "slide_type": "subslide"
    }
   },
   "source": [
    "- You can make more than one list at once."
   ]
  },
  {
   "cell_type": "code",
   "execution_count": null,
   "metadata": {
    "slideshow": {
     "slide_type": "-"
    }
   },
   "outputs": [],
   "source": [
    "list1, list2 = [1,2], [3,4]\n",
    "print(list1, list2)"
   ]
  },
  {
   "cell_type": "markdown",
   "metadata": {
    "slideshow": {
     "slide_type": "subslide"
    }
   },
   "source": [
    "- Use brackets like `mylist[]` to subset a list. For a list of lists, use `mylist[][]`, etc. \n",
    "- A list is indexed from 0 (zero-based indexing)!!\n",
    "- Get the first element in `mylist1` (\"sam\"). Also get \"sam\" in `mylist2`."
   ]
  },
  {
   "cell_type": "code",
   "execution_count": 22,
   "metadata": {
    "slideshow": {
     "slide_type": "-"
    }
   },
   "outputs": [],
   "source": [
    "mylist1 = [\"sam\", 1.75, \"sara\", 1.82] \n",
    "mylist2 = [[\"sam\", 1.75], [\"sara\", 1.82]] "
   ]
  },
  {
   "cell_type": "markdown",
   "metadata": {
    "slideshow": {
     "slide_type": "subslide"
    }
   },
   "source": [
    "- Arithmetic operation is possible.\n",
    "- Calculate the sum of heights in `mylist`."
   ]
  },
  {
   "cell_type": "code",
   "execution_count": 25,
   "metadata": {
    "slideshow": {
     "slide_type": "-"
    }
   },
   "outputs": [],
   "source": [
    "mylist = [\"sam\", 1.75, \"sara\", 1.82] "
   ]
  },
  {
   "cell_type": "markdown",
   "metadata": {
    "slideshow": {
     "slide_type": "subslide"
    }
   },
   "source": [
    "- To slice a list, use `mylist[start:end]`, i.e., brackets and a colon. The rule is `mylist[inclusive:exclusive]`.\n",
    "- You can also use `-` in `[:]`, which specifies the index from the end.\n",
    "- Get the first and the second element in `mylist` using `[:]`.\n",
    "- Get elements from the second to the end in `mylist` using `[:]`.\n",
    "- Repeat the same exercises using `-`."
   ]
  },
  {
   "cell_type": "code",
   "execution_count": 28,
   "metadata": {
    "slideshow": {
     "slide_type": "-"
    }
   },
   "outputs": [],
   "source": [
    "mylist = [\"sam\", 1.75, \"sara\", 1.82] "
   ]
  },
  {
   "cell_type": "markdown",
   "metadata": {
    "slideshow": {
     "slide_type": "subslide"
    }
   },
   "source": [
    "- You can also subset and slice a string.\n",
    "- Try:\n",
    "```python\n",
    "print(\"sara\"[0])\n",
    "print(\"sara\"[0:2])\n",
    "```"
   ]
  },
  {
   "cell_type": "code",
   "execution_count": null,
   "metadata": {
    "slideshow": {
     "slide_type": "-"
    }
   },
   "outputs": [],
   "source": []
  },
  {
   "cell_type": "markdown",
   "metadata": {
    "slideshow": {
     "slide_type": "subslide"
    }
   },
   "source": [
    "- You can change the element of a list by typing `mylist[location] = new_value`.\n",
    "- Change \"sam\" in `mylist` to \"robert\"."
   ]
  },
  {
   "cell_type": "code",
   "execution_count": 29,
   "metadata": {
    "slideshow": {
     "slide_type": "-"
    }
   },
   "outputs": [],
   "source": [
    "mylist = [\"sam\", 1.75, \"sara\", 1.82] "
   ]
  },
  {
   "cell_type": "markdown",
   "metadata": {
    "slideshow": {
     "slide_type": "subslide"
    }
   },
   "source": [
    "- You can add a list to another list using `+` operator.\n",
    "- Add `[\"bob\",1.85]` to `mylist1`.\n",
    "- Try the same for `mylist2`."
   ]
  },
  {
   "cell_type": "code",
   "execution_count": null,
   "metadata": {
    "slideshow": {
     "slide_type": "-"
    }
   },
   "outputs": [],
   "source": [
    "mylist1 = [\"sam\", 1.75, \"sara\", 1.82] \n",
    "mylist2 = [[\"sam\", 1.75], [\"sara\", 1.82]] "
   ]
  },
  {
   "cell_type": "markdown",
   "metadata": {
    "slideshow": {
     "slide_type": "subslide"
    }
   },
   "source": [
    "- You cannot add a number to a list.\n",
    "- Try adding some number to `mylist` using `+` operator."
   ]
  },
  {
   "cell_type": "code",
   "execution_count": null,
   "metadata": {
    "slideshow": {
     "slide_type": "-"
    }
   },
   "outputs": [],
   "source": [
    "mylist = [\"sam\", 1.75, \"sara\", 1.82] "
   ]
  },
  {
   "cell_type": "markdown",
   "metadata": {
    "slideshow": {
     "slide_type": "subslide"
    }
   },
   "source": [
    "- `*` operator can be used for lists. What are the outcome of `[1] * 4` and `[\"sara\"] * 4`?\n",
    "- Also try `[1 * 4]` and `[\"sara\" * 4]`."
   ]
  },
  {
   "cell_type": "code",
   "execution_count": null,
   "metadata": {
    "slideshow": {
     "slide_type": "-"
    }
   },
   "outputs": [],
   "source": []
  },
  {
   "cell_type": "markdown",
   "metadata": {
    "slideshow": {
     "slide_type": "subslide"
    }
   },
   "source": [
    "- To delete an element in the list, use `del(mylist[location])`.\n",
    "- Delete the second element in `mylist`."
   ]
  },
  {
   "cell_type": "code",
   "execution_count": null,
   "metadata": {
    "slideshow": {
     "slide_type": "-"
    }
   },
   "outputs": [],
   "source": [
    "mylist = [\"sam\", 1.75, \"sara\", 1.82] "
   ]
  },
  {
   "cell_type": "markdown",
   "metadata": {
    "slideshow": {
     "slide_type": "subslide"
    }
   },
   "source": [
    "- You can check if an element is in the list using `in`.\n",
    "- You can apply the same method for strings.\n",
    "- Try:\n",
    "```python\n",
    "print(\"sara\" in mylist1)\n",
    "print(\"sara\" in mylist2)\n",
    "print(\"r\" in \"sara\")\n",
    "```"
   ]
  },
  {
   "cell_type": "code",
   "execution_count": 34,
   "metadata": {
    "slideshow": {
     "slide_type": "-"
    }
   },
   "outputs": [],
   "source": [
    "mylist1 = [\"sam\", 1.75, \"sara\", 1.82] \n",
    "mylist2 = [[\"sam\", 1.75], [\"sara\", 1.82]] "
   ]
  },
  {
   "cell_type": "markdown",
   "metadata": {
    "slideshow": {
     "slide_type": "subslide"
    }
   },
   "source": [
    "- When you manipulate a list, the object itself changes.\n",
    "- This applies to *mutable* types, i.e., lists and dictionaries.\n",
    "    - While float, int, str, and tuple are *immutable* types.\n",
    "- Different objects are assigned:\n",
    "```python\n",
    "mylist1 = [\"a\", \"b\", \"c\"]\n",
    "mylist2 = [\"a\", \"b\", \"c\"]\n",
    "```\n",
    "- The same object is assigned:\n",
    "```python\n",
    "myint1 = 1\n",
    "myint2 = 1\n",
    "```\n",
    "- Let's see the difference."
   ]
  },
  {
   "cell_type": "code",
   "execution_count": null,
   "metadata": {
    "slideshow": {
     "slide_type": "subslide"
    }
   },
   "outputs": [],
   "source": [
    "mylist1 = [\"a\", \"b\", \"c\"]\n",
    "print(mylist1)\n",
    "mylist2 = mylist1\n",
    "mylist2[1] = \"d\"\n",
    "print(mylist1)"
   ]
  },
  {
   "cell_type": "code",
   "execution_count": null,
   "metadata": {
    "slideshow": {
     "slide_type": "-"
    }
   },
   "outputs": [],
   "source": [
    "myint1 = 1\n",
    "print(myint1)\n",
    "myint2 = myint1\n",
    "myint2 = 2 \n",
    "print(myint1)"
   ]
  },
  {
   "cell_type": "markdown",
   "metadata": {
    "slideshow": {
     "slide_type": "subslide"
    }
   },
   "source": [
    "- To avoid this, use `[:]`.\n",
    "- Repeat the same thing using `mylist2 = mylist1[:]`."
   ]
  },
  {
   "cell_type": "code",
   "execution_count": 3,
   "metadata": {
    "slideshow": {
     "slide_type": "-"
    }
   },
   "outputs": [],
   "source": [
    "mylist1 = ['a', 'b', 'c']"
   ]
  },
  {
   "cell_type": "markdown",
   "metadata": {
    "slideshow": {
     "slide_type": "subslide"
    }
   },
   "source": [
    "#### - Dictionaries\n",
    "- Dictionaries are one of the types.\n",
    "- A dictionary contains a set of key-value pairs.\n",
    "- You can access a value using the associated key.\n",
    "- Keys have to be immutable types, i.e., numbers, strings, booleans, etc.\n",
    "    - For example, a list cannot be a key.\n",
    "- There is no concept of order or index for dictionaries!!\n",
    "- Get the height of \"sara\" in `mydict`."
   ]
  },
  {
   "cell_type": "code",
   "execution_count": 35,
   "metadata": {
    "slideshow": {
     "slide_type": "-"
    }
   },
   "outputs": [],
   "source": [
    "mydict = {\"sam\":1.75, \"sara\":1.82}"
   ]
  },
  {
   "cell_type": "markdown",
   "metadata": {
    "slideshow": {
     "slide_type": "subslide"
    }
   },
   "source": [
    "- It's possible to make a dictionary of dictionaries.\n",
    "- You can access an element using `mydict[][]`, etc.\n",
    "- Get the height of \"sara\" in `mydict`."
   ]
  },
  {
   "cell_type": "code",
   "execution_count": null,
   "metadata": {
    "slideshow": {
     "slide_type": "-"
    }
   },
   "outputs": [],
   "source": [
    "mydict = {\"sam\":{\"height\":1.75, \"weight\":80.0}, \"sara\":{\"height\":1.82, \"weight\":85.0}}"
   ]
  },
  {
   "cell_type": "markdown",
   "metadata": {
    "slideshow": {
     "slide_type": "subslide"
    }
   },
   "source": [
    "- You can get all keys of a dictionary using `mydict.keys()`.\n",
    "- Use `mykey in mydic` to check if `mydict` contains `mykey`.\n",
    "- Check all keys in `mydict`.\n",
    "- Check all keys in `mydict[\"sam\"]`.\n",
    "- Check if \"height\" is a key in `mydict`.\n",
    "- Check if \"height\" is a key in `mydict[\"sam\"]`."
   ]
  },
  {
   "cell_type": "code",
   "execution_count": 44,
   "metadata": {
    "slideshow": {
     "slide_type": "-"
    }
   },
   "outputs": [],
   "source": [
    "mydict = {\"sam\":{\"height\":1.75, \"weight\":80.0}, \"sara\":{\"height\":1.82, \"weight\":85.0}}"
   ]
  },
  {
   "cell_type": "markdown",
   "metadata": {
    "slideshow": {
     "slide_type": "subslide"
    }
   },
   "source": [
    "- You can add a key-value pair to the dictionary using `mydict[key] = value`.\n",
    "- The same method also allows you to modify values.\n",
    "- To delete a pair, use `del(mydict[key])`.\n",
    "- Add \"lisa\" whose height is 1.65 to `mydict`.\n",
    "- Delete \"lisa\" (and the associated height)."
   ]
  },
  {
   "cell_type": "code",
   "execution_count": 46,
   "metadata": {
    "slideshow": {
     "slide_type": "-"
    }
   },
   "outputs": [],
   "source": [
    "mydict = {\"sam\":1.75, \"sara\":1.82}"
   ]
  },
  {
   "cell_type": "markdown",
   "metadata": {
    "slideshow": {
     "slide_type": "subslide"
    }
   },
   "source": [
    "- If keys are not unique, the left most value shows up."
   ]
  },
  {
   "cell_type": "code",
   "execution_count": null,
   "metadata": {
    "slideshow": {
     "slide_type": "-"
    }
   },
   "outputs": [],
   "source": [
    "mydict = {\"sam\":1.75, \"sara\":1.82, \"sam\":1.95}\n",
    "print(mydict)"
   ]
  },
  {
   "cell_type": "markdown",
   "metadata": {
    "slideshow": {
     "slide_type": "subslide"
    }
   },
   "source": [
    "#### - Tuples\n",
    "- A tuple is similar to a list except that you cannot change the element.\n",
    "- Change the second element in `mytuple` to 4."
   ]
  },
  {
   "cell_type": "code",
   "execution_count": null,
   "metadata": {
    "slideshow": {
     "slide_type": "-"
    }
   },
   "outputs": [],
   "source": [
    "mytuple = (1, 2, 3)"
   ]
  },
  {
   "cell_type": "markdown",
   "metadata": {
    "slideshow": {
     "slide_type": "subslide"
    }
   },
   "source": [
    "- You can slice and subset a tuple."
   ]
  },
  {
   "cell_type": "code",
   "execution_count": null,
   "metadata": {
    "slideshow": {
     "slide_type": "-"
    }
   },
   "outputs": [],
   "source": [
    "mytuple = (1, 2, 3)\n",
    "print(mytuple[1])\n",
    "print(mytuple[0:2])"
   ]
  },
  {
   "cell_type": "markdown",
   "metadata": {
    "slideshow": {
     "slide_type": "slide"
    }
   },
   "source": [
    "## 4. Functions\n",
    "- Functions return outputs given inputs. They also allow options if available.\n",
    "- Useful built-in functions include: print(), float(), int(), str(), len(), max(), min(), round(), sorted(), etc. \n",
    "    - Some functions are used only for specific types.\n",
    "    - (Strictly speaking, operators like float(), int(), str() are not functions. They are called class constructors.)\n",
    "- Print the maximum height in `heights` using `max()`. Can you do the same for `mylist`?\n",
    "- Print the length of `mylist` using `len()`.\n",
    "- Print the length of \"sam\" in `mylist` using `len()`."
   ]
  },
  {
   "cell_type": "code",
   "execution_count": 51,
   "metadata": {
    "slideshow": {
     "slide_type": "-"
    }
   },
   "outputs": [],
   "source": [
    "mylist = [\"sam\", 1.75, \"sara\", 1.82]\n",
    "heights = [1.75, 1.82]"
   ]
  },
  {
   "cell_type": "markdown",
   "metadata": {
    "slideshow": {
     "slide_type": "subslide"
    }
   },
   "source": [
    "- To see a help file, type `?` before or after a function name, or write `help()`.\n",
    "- Try `?round`, `round?`, and `help(round)`."
   ]
  },
  {
   "cell_type": "code",
   "execution_count": null,
   "metadata": {
    "slideshow": {
     "slide_type": "-"
    }
   },
   "outputs": [],
   "source": []
  },
  {
   "cell_type": "markdown",
   "metadata": {
    "slideshow": {
     "slide_type": "subslide"
    }
   },
   "source": [
    "- It returns `round(number[, ndigits]) -> number` and an explanation about the function. This means that the input is a numeric number, and the output is a numeric number that is rounded. `ndigits` is an option by which you can specify a precision in decimal digits.\n",
    "- For example, `round(1.85,1)` returns the closest float number with one decimal digit, i.e., 1.9. What about `round(1.84,1)`?"
   ]
  },
  {
   "cell_type": "code",
   "execution_count": null,
   "metadata": {
    "slideshow": {
     "slide_type": "-"
    }
   },
   "outputs": [],
   "source": []
  },
  {
   "cell_type": "markdown",
   "metadata": {
    "slideshow": {
     "slide_type": "subslide"
    }
   },
   "source": [
    "- You can make a function easily. The following example uses `x` and `y` as inputs and returns `x + y`."
   ]
  },
  {
   "cell_type": "code",
   "execution_count": null,
   "metadata": {
    "slideshow": {
     "slide_type": "-"
    }
   },
   "outputs": [],
   "source": [
    "def mysum(x, y): \n",
    "    return x + y\n",
    "print(mysum(2, 3))"
   ]
  },
  {
   "cell_type": "markdown",
   "metadata": {
    "slideshow": {
     "slide_type": "subslide"
    }
   },
   "source": [
    "- You can also use lambda functions."
   ]
  },
  {
   "cell_type": "code",
   "execution_count": null,
   "metadata": {
    "slideshow": {
     "slide_type": "-"
    }
   },
   "outputs": [],
   "source": [
    "mysum = lambda x, y: x + y\n",
    "print(mysum(2, 3))"
   ]
  },
  {
   "cell_type": "markdown",
   "metadata": {
    "slideshow": {
     "slide_type": "subslide"
    }
   },
   "source": [
    "- Make a function which returns the type of an input."
   ]
  },
  {
   "cell_type": "code",
   "execution_count": null,
   "metadata": {
    "slideshow": {
     "slide_type": "-"
    }
   },
   "outputs": [],
   "source": [
    "mytype = lambda x: type(x)\n",
    "print(mytype(1.0))"
   ]
  },
  {
   "cell_type": "markdown",
   "metadata": {
    "slideshow": {
     "slide_type": "slide"
    }
   },
   "source": [
    "## 5. Methods\n",
    "- Methods are functions attached to an object.\n",
    "- Useful methods include: index(), count(), append(), remove(), reverse(), sort(), capitalize(), upper(), replace(), etc.\n",
    "- You write like `object.method`."
   ]
  },
  {
   "cell_type": "code",
   "execution_count": null,
   "metadata": {
    "slideshow": {
     "slide_type": "subslide"
    }
   },
   "outputs": [],
   "source": [
    "mylist = [\"sam\", 1.75, \"sara\", 1.82]\n",
    "heights = [1.82, 1.75]\n",
    "print(mylist)\n",
    "print(mylist.index(\"sara\")) # returns the index of (the first) \"sara\"\n",
    "print(mylist[2].index(\"a\")) # returns the index of (the first) \"a\" in \"sara\"\n",
    "print(mylist.count(\"sara\")) # counts the number of \"sara\" in mylist1\n",
    "print(mylist[2].count('a')) # counts the number of \"a\"s in \"sara\"\n",
    "mylist.append('ken'); mylist.append(1.95) # append\n",
    "print(mylist)\n",
    "mylist.remove('ken'); mylist.remove(1.95) # remove\n",
    "print(mylist)\n",
    "mylist.reverse() # reverse the order\n",
    "print(mylist)\n",
    "heights.sort() # sort works for numbers.\n",
    "print(heights)\n",
    "# mylist.sort() # This returns an error."
   ]
  },
  {
   "cell_type": "markdown",
   "metadata": {
    "slideshow": {
     "slide_type": "subslide"
    }
   },
   "source": [
    "- Some methods are attached only to a specific object type."
   ]
  },
  {
   "cell_type": "code",
   "execution_count": null,
   "metadata": {
    "slideshow": {
     "slide_type": "-"
    }
   },
   "outputs": [],
   "source": [
    "mylist = [\"sam\", 1.75, \"sara\", 1.82]\n",
    "heights = [1.82, 1.75]\n",
    "# print(mylist1.upper()) # This returns an error.\n",
    "print(mylist[2].upper()) # same as 'sara'.upper()\n",
    "print(mylist[2].capitalize()) # same as 'sara'.capitalize()\n",
    "print(mylist[2].replace(\"s\",\"k\")) # replace 's' as 'k' in 'sara'\n",
    "print(mylist) # None of these methods changes the original list.\n",
    "mylist[2] = mylist[2].upper() # You have to assign the output to the same variable.\n",
    "print(mylist)"
   ]
  },
  {
   "cell_type": "markdown",
   "metadata": {
    "slideshow": {
     "slide_type": "subslide"
    }
   },
   "source": [
    "- You can check methods using `dir()`."
   ]
  },
  {
   "cell_type": "code",
   "execution_count": null,
   "metadata": {
    "slideshow": {
     "slide_type": "-"
    }
   },
   "outputs": [],
   "source": [
    "mylist = [\"sam\", 1.75, \"sara\", 1.82]\n",
    "print(dir(mylist))\n",
    "print(dir(mylist[0]))\n",
    "print(dir(mylist[1]))"
   ]
  },
  {
   "cell_type": "markdown",
   "metadata": {
    "slideshow": {
     "slide_type": "subslide"
    }
   },
   "source": [
    "- `?object.method`, `object.method?`, or `help(object.method)` to see a help file.\n",
    "- Get the help file for `upper` for strings using `mylist` as the object."
   ]
  },
  {
   "cell_type": "code",
   "execution_count": 92,
   "metadata": {
    "slideshow": {
     "slide_type": "-"
    }
   },
   "outputs": [],
   "source": [
    "mylist = [\"sam\", 1.75, \"sara\", 1.82]"
   ]
  },
  {
   "cell_type": "markdown",
   "metadata": {
    "slideshow": {
     "slide_type": "slide"
    }
   },
   "source": [
    "## 6. Modules and Packages\n",
    "- You can import useful modules using `import module`. \n",
    "    - It is like defining a `module` object and enabling functions attached to the module object.\n",
    "- `,` operator can be used to import multiple modules."
   ]
  },
  {
   "cell_type": "code",
   "execution_count": null,
   "metadata": {
    "slideshow": {
     "slide_type": "-"
    }
   },
   "outputs": [],
   "source": [
    "import math, numpy\n",
    "print(math.radians(45)) # convert degrees to radians\n",
    "print(numpy.radians(45)) # convert degrees to radians\n",
    "# (Note that NumPy is not a module, but a package. NumPy should have already been installed if you have installed Python using Anaconda. If not, open Command Prompt (for Windows), then type `pip3 install numpy` (for Python 3) or `pip install numpy` (for Python 2) to manually install NumPy. For Anaconda users, use `conda install numpy` for installing and updating NumPy."
   ]
  },
  {
   "cell_type": "markdown",
   "metadata": {
    "slideshow": {
     "slide_type": "subslide"
    }
   },
   "source": [
    "- Use `import module as myname` to define the module name as `myname`."
   ]
  },
  {
   "cell_type": "code",
   "execution_count": null,
   "metadata": {
    "slideshow": {
     "slide_type": "-"
    }
   },
   "outputs": [],
   "source": [
    "import math as m, numpy as np\n",
    "print(m.radians(45))\n",
    "print(np.radians(45))"
   ]
  },
  {
   "cell_type": "markdown",
   "metadata": {
    "slideshow": {
     "slide_type": "subslide"
    }
   },
   "source": [
    "- Alternatively, use `from module import function` to import a specific function, or use `from module import *` to import all functions from the module. The latter option is not always recommended. The reason:\n",
    "```python\n",
    "from math import *\n",
    "from numpy import *\n",
    "deg = arange(12.) * 30.\n",
    "print(radians(deg))\n",
    "```\n",
    "vs.\n",
    "```python\n",
    "from numpy import *\n",
    "from math import *\n",
    "deg = arange(12.) * 30.\n",
    "print(radians(deg))\n",
    "```\n",
    "- You will get an error in the second case because `radians` in that case is `math.radians`, which does not allow a numpy array. "
   ]
  },
  {
   "cell_type": "code",
   "execution_count": null,
   "metadata": {
    "slideshow": {
     "slide_type": "subslide"
    }
   },
   "outputs": [],
   "source": []
  },
  {
   "cell_type": "markdown",
   "metadata": {
    "slideshow": {
     "slide_type": "subslide"
    }
   },
   "source": [
    "- `,` operator can be used to import multiple functions."
   ]
  },
  {
   "cell_type": "code",
   "execution_count": null,
   "metadata": {
    "slideshow": {
     "slide_type": "-"
    }
   },
   "outputs": [],
   "source": [
    "from math import radians, sin, cos\n",
    "print(radians(45))"
   ]
  },
  {
   "cell_type": "markdown",
   "metadata": {
    "slideshow": {
     "slide_type": "subslide"
    }
   },
   "source": [
    "- A package contains modules, functions, etc. There are 1,274,332 packages (files) (as of 2018/04/29) in [PyPI](https://pypi.org/).\n",
    "- To install a package to your local machine, you can use either `pip install` or `conda install` in Command Prompt (for Windows)."
   ]
  },
  {
   "cell_type": "markdown",
   "metadata": {
    "slideshow": {
     "slide_type": "subslide"
    }
   },
   "source": [
    "- You can import a module/function from a package using `import package.module`, `from package import module` or even `from package import function`."
   ]
  },
  {
   "cell_type": "code",
   "execution_count": 83,
   "metadata": {
    "slideshow": {
     "slide_type": "-"
    }
   },
   "outputs": [],
   "source": [
    "from numpy import ndarray # ndarray is a function in the NumPy package."
   ]
  },
  {
   "cell_type": "markdown",
   "metadata": {
    "slideshow": {
     "slide_type": "subslide"
    }
   },
   "source": [
    "- To check functions in a package, use `dir()`."
   ]
  },
  {
   "cell_type": "code",
   "execution_count": null,
   "metadata": {
    "slideshow": {
     "slide_type": "-"
    }
   },
   "outputs": [],
   "source": [
    "import pandas as pd\n",
    "dir(pd)"
   ]
  },
  {
   "cell_type": "markdown",
   "metadata": {
    "slideshow": {
     "slide_type": "subslide"
    }
   },
   "source": [
    "- You can list loaded packages using `modules.keys()` in the system package."
   ]
  },
  {
   "cell_type": "code",
   "execution_count": null,
   "metadata": {
    "slideshow": {
     "slide_type": "-"
    }
   },
   "outputs": [],
   "source": [
    "import sys\n",
    "sys.modules.keys()"
   ]
  },
  {
   "cell_type": "markdown",
   "metadata": {
    "slideshow": {
     "slide_type": "slide"
    }
   },
   "source": [
    "## 7. If Statements\n",
    "- Python uses colons and indents for if statements."
   ]
  },
  {
   "cell_type": "code",
   "execution_count": null,
   "metadata": {
    "slideshow": {
     "slide_type": "-"
    }
   },
   "outputs": [],
   "source": [
    "inp = \"Hello\"\n",
    "if inp == \"Hello\": \n",
    "    print(\"World!\") # indent + block"
   ]
  },
  {
   "cell_type": "markdown",
   "metadata": {
    "slideshow": {
     "slide_type": "subslide"
    }
   },
   "source": [
    "- If statements can be complex like this."
   ]
  },
  {
   "cell_type": "code",
   "execution_count": null,
   "metadata": {
    "slideshow": {
     "slide_type": "-"
    }
   },
   "outputs": [],
   "source": [
    "inp = \"Hello\"\n",
    "if inp == \"Hell\":\n",
    "    print(\"No.\")\n",
    "else:\n",
    "    if inp == \"He\":\n",
    "        print(\"No.\")\n",
    "    else:\n",
    "        print(\"World!\")"
   ]
  },
  {
   "cell_type": "markdown",
   "metadata": {
    "slideshow": {
     "slide_type": "subslide"
    }
   },
   "source": [
    "- The above example can be simplified by using `elif`."
   ]
  },
  {
   "cell_type": "code",
   "execution_count": null,
   "metadata": {
    "slideshow": {
     "slide_type": "-"
    }
   },
   "outputs": [],
   "source": [
    "inp = \"Hello\"\n",
    "if inp == \"Hell\":\n",
    "    print(\"No.\")\n",
    "elif inp == \"He\":\n",
    "    print(\"No.\")\n",
    "else:\n",
    "    print(\"World!\")"
   ]
  },
  {
   "cell_type": "markdown",
   "metadata": {
    "slideshow": {
     "slide_type": "subslide"
    }
   },
   "source": [
    "- Alternatively, you can even simplify them using a lambda function."
   ]
  },
  {
   "cell_type": "code",
   "execution_count": null,
   "metadata": {
    "slideshow": {
     "slide_type": "-"
    }
   },
   "outputs": [],
   "source": [
    "myfunc = lambda inp: \"No.\" if inp == \"Hell\" else (\"No.\" if inp == \"He\" else \"World!\")\n",
    "print(myfunc(\"Hello\"))"
   ]
  },
  {
   "cell_type": "markdown",
   "metadata": {
    "slideshow": {
     "slide_type": "subslide"
    }
   },
   "source": [
    "- Relational operators include: `==`, `!=`, `>`, `<`, `>=`, and `<=`.\n",
    "- You can also combine them with `and`, `or`, `not`, and `in`.\n",
    "    - `and` can be replaced by `&`, and `or` can be replaced by `|`."
   ]
  },
  {
   "cell_type": "code",
   "execution_count": null,
   "metadata": {
    "slideshow": {
     "slide_type": "-"
    }
   },
   "outputs": [],
   "source": [
    "year = 2018\n",
    "if (year > 2017) and (year < 2019):\n",
    "    print('2018!')\n",
    "\n",
    "year = \"2017\"\n",
    "if not year == 2017: # be careful about the type\n",
    "    print('Not 2017!')\n",
    "\n",
    "mylist = [\"sam\", 1.75, \"sara\", 1.82]\n",
    "if \"sam\" in mylist:\n",
    "    print(\"sam in mylist!\")\n",
    "\n",
    "if \"lisa\" not in mylist:\n",
    "    print(\"lisa not in mylist!\")"
   ]
  },
  {
   "cell_type": "markdown",
   "metadata": {
    "slideshow": {
     "slide_type": "subslide"
    }
   },
   "source": [
    "- The difference between `==` and `is` is that `==` tests for logical equality, while `is` tests for object identity.\n",
    "- For `None`, you should use `is`. That's the rule.\n",
    "<!-- see, https://www.python.org/dev/peps/pep-0008/#programming-recommendations -->"
   ]
  },
  {
   "cell_type": "code",
   "execution_count": null,
   "metadata": {
    "slideshow": {
     "slide_type": "-"
    }
   },
   "outputs": [],
   "source": [
    "print(True is 1) # object identity\n",
    "print(True == 1) # logical equality\n",
    "x = 1 # immutable\n",
    "y = 1\n",
    "print(x is y, x == y)\n",
    "x = [1,2] # mutable\n",
    "y = [1,2]\n",
    "print(x is y, x == y)\n",
    "x = [1,2]\n",
    "y = x\n",
    "print(x is y, x == y)"
   ]
  },
  {
   "cell_type": "markdown",
   "metadata": {
    "slideshow": {
     "slide_type": "subslide"
    }
   },
   "source": [
    "- Make a function which returns the type of an input if the option is 1, and returns the input itself otherwise."
   ]
  },
  {
   "cell_type": "code",
   "execution_count": null,
   "metadata": {
    "slideshow": {
     "slide_type": "-"
    }
   },
   "outputs": [],
   "source": []
  },
  {
   "cell_type": "markdown",
   "metadata": {
    "slideshow": {
     "slide_type": "slide"
    }
   },
   "source": [
    "## 8. Loops\n",
    "- You can use `for` or `while` for loops.\n",
    "- `for` loops often use `range()`."
   ]
  },
  {
   "cell_type": "code",
   "execution_count": null,
   "metadata": {
    "slideshow": {
     "slide_type": "-"
    }
   },
   "outputs": [],
   "source": [
    "print(\"--- loop to 9 ---\")\n",
    "for item in range(10):\n",
    "    print(\"Current number is \", item)\n",
    "\n",
    "print(\"--- loop from 1 to 4 ---\")\n",
    "for item in range(1,5):\n",
    "    print(\"Current number is \", item)\n",
    "    \n",
    "print(\"--- loop from 2 to 8 by an increment of 2 ---\")\n",
    "for item in range(2,9,2):\n",
    "    print(\"Current number is \", item)"
   ]
  },
  {
   "cell_type": "markdown",
   "metadata": {
    "slideshow": {
     "slide_type": "subslide"
    }
   },
   "source": [
    "- You can also loop over strings, lists, dictionaries, and tuples."
   ]
  },
  {
   "cell_type": "code",
   "execution_count": null,
   "metadata": {
    "slideshow": {
     "slide_type": "-"
    }
   },
   "outputs": [],
   "source": [
    "print(\"--- loop over strings ---\")\n",
    "mystr = \"Hello World!\"\n",
    "for x in mystr:\n",
    "    print(x)\n",
    "\n",
    "print(\"--- loop over a list ---\")\n",
    "mylist = [\"sam\", 1.75, \"sara\", 1.82]\n",
    "for x in mylist:\n",
    "    print(x)\n",
    "\n",
    "print(\"--- loop over a list of lists ---\")\n",
    "mylist_of_lists = [[\"sam\", 1.75], [\"sara\", 1.82]]\n",
    "for mylist in mylist_of_lists:\n",
    "    for x in mylist:\n",
    "        print(x) \n",
    "\n",
    "print(\"--- loop over a dictionary ---\")        \n",
    "mydict = {\"sam\":1.75, \"sara\":1.82}\n",
    "for x in mydict:\n",
    "    print(x)\n",
    "    \n",
    "print(\"--- loop over a tuple ---\")        \n",
    "mytuple = (1, 2, 3)\n",
    "for x in mytuple:\n",
    "    print(x)"
   ]
  },
  {
   "cell_type": "markdown",
   "metadata": {
    "slideshow": {
     "slide_type": "subslide"
    }
   },
   "source": [
    "- Loops can be used inside a list."
   ]
  },
  {
   "cell_type": "code",
   "execution_count": null,
   "metadata": {
    "slideshow": {
     "slide_type": "-"
    }
   },
   "outputs": [],
   "source": [
    "mylist = [item for item in range(10)]\n",
    "print(mylist)"
   ]
  },
  {
   "cell_type": "markdown",
   "metadata": {
    "slideshow": {
     "slide_type": "subslide"
    }
   },
   "source": [
    "- Make a loop inside a list to change an element in `mylist` to one if the element is zero."
   ]
  },
  {
   "cell_type": "code",
   "execution_count": 26,
   "metadata": {
    "slideshow": {
     "slide_type": "-"
    }
   },
   "outputs": [],
   "source": [
    "mylist = [0, 2, 3, 4]"
   ]
  },
  {
   "cell_type": "markdown",
   "metadata": {
    "slideshow": {
     "slide_type": "subslide"
    }
   },
   "source": [
    "- To append elements in a list, use `append()` in a loop."
   ]
  },
  {
   "cell_type": "code",
   "execution_count": null,
   "metadata": {
    "slideshow": {
     "slide_type": "-"
    }
   },
   "outputs": [],
   "source": [
    "z = []\n",
    "for i in range(0,10):\n",
    "    z.append(i)\n",
    "print(z)"
   ]
  },
  {
   "cell_type": "markdown",
   "metadata": {
    "slideshow": {
     "slide_type": "subslide"
    }
   },
   "source": [
    "- You may often use `break` and `continue` in a `while` loop.\n",
    "    - `break` means that you will exit the current loop.\n",
    "    - `continue` means that you will go back to the start of the current loop."
   ]
  },
  {
   "cell_type": "code",
   "execution_count": null,
   "metadata": {
    "slideshow": {
     "slide_type": "-"
    }
   },
   "outputs": [],
   "source": [
    "print(\"--- a loop till 10 ---\")\n",
    "cnt = 0\n",
    "while cnt < 10:\n",
    "    cnt += 1 # same as cnt = cnt + 1.\n",
    "    print(cnt)\n",
    "\n",
    "print(\"--- a loop till 10 except 5 ---\")\n",
    "cnt = 0\n",
    "while cnt < 10:\n",
    "    cnt += 1\n",
    "    if cnt == 5:\n",
    "        continue\n",
    "    print(cnt)\n",
    "\n",
    "print(\"--- a loop till 5 ---\")    \n",
    "cnt = 0\n",
    "while cnt < 10:\n",
    "    cnt += 1\n",
    "    print(cnt)\n",
    "    if cnt > 4:\n",
    "        break"
   ]
  },
  {
   "cell_type": "markdown",
   "metadata": {
    "slideshow": {
     "slide_type": "subslide"
    }
   },
   "source": [
    "- For infinite loops, use `while True`."
   ]
  },
  {
   "cell_type": "code",
   "execution_count": null,
   "metadata": {
    "slideshow": {
     "slide_type": "-"
    }
   },
   "outputs": [],
   "source": [
    "print(\"--- infinite loop till 10 ---\")\n",
    "cnt = 0\n",
    "while True:\n",
    "    print(cnt)\n",
    "    cnt += 1\n",
    "    if cnt > 10:\n",
    "        break"
   ]
  },
  {
   "cell_type": "markdown",
   "metadata": {
    "slideshow": {
     "slide_type": "subslide"
    }
   },
   "source": [
    "- Make a function which returns \"Five!\" when the input is 5, and \".\" otherwise. Then use that function in a loop ranging from 1 to 9."
   ]
  },
  {
   "cell_type": "code",
   "execution_count": null,
   "metadata": {
    "slideshow": {
     "slide_type": "-"
    }
   },
   "outputs": [],
   "source": [
    "myfive = lambda x: \"Five!\" if x == 5 else \". \" # myfive returns \"Five!\" if the input is five, and \".\" otherwise.\n",
    "for x in range(1,9):\n",
    "    print(myfive(x))"
   ]
  },
  {
   "cell_type": "markdown",
   "metadata": {
    "slideshow": {
     "slide_type": "slide"
    }
   },
   "source": [
    "## 9. NumPy\n",
    "- NumPy (numeric python) is the foundamental package for numerical computation in Python."
   ]
  },
  {
   "cell_type": "code",
   "execution_count": 5,
   "metadata": {
    "slideshow": {
     "slide_type": "-"
    }
   },
   "outputs": [],
   "source": [
    "import numpy as np"
   ]
  },
  {
   "cell_type": "markdown",
   "metadata": {
    "slideshow": {
     "slide_type": "subslide"
    }
   },
   "source": [
    "- Recall that lists do not allow element-by-element calculation.\n",
    "- Such calculation is possible for NumPy arrays.\n",
    "- Calculate bmi using \n",
    "```python\n",
    "bmi = weight / height ** 2\n",
    "print(bmi)\n",
    "```\n",
    "- Then do the same using `np_height` and `np_weight`."
   ]
  },
  {
   "cell_type": "code",
   "execution_count": null,
   "metadata": {
    "slideshow": {
     "slide_type": "-"
    }
   },
   "outputs": [],
   "source": [
    "height = [1.80, 1.76, 1.64] \n",
    "weight = [80, 75, 60]\n",
    "np_height = np.array(height) # convert height to a NumPy array (use ?np.array to get a help file)\n",
    "np_weight = np.array(weight)"
   ]
  },
  {
   "cell_type": "markdown",
   "metadata": {
    "slideshow": {
     "slide_type": "subslide"
    }
   },
   "source": [
    "- `+` operator adds elements to a list for lists, while it calculates the sum of each element in an array for NumPy arrays.\n",
    "- Try:\n",
    "```python\n",
    "print(height + weight)\n",
    "print(np_height + np_weight)\n",
    "```"
   ]
  },
  {
   "cell_type": "code",
   "execution_count": 16,
   "metadata": {
    "slideshow": {
     "slide_type": "-"
    }
   },
   "outputs": [],
   "source": [
    "height = [1.80, 1.76, 1.64] \n",
    "weight = [80, 75, 60]\n",
    "np_height = np.array(height) \n",
    "np_weight = np.array(weight)"
   ]
  },
  {
   "cell_type": "markdown",
   "metadata": {
    "slideshow": {
     "slide_type": "subslide"
    }
   },
   "source": [
    "- A NumPy array can contain only one type. If there are multiple types, they are converted to a single type.\n",
    "- Types are ordered: strings > floats > integers > booleans\n",
    "- Check the type of the first element in `myarray1`, `myarray2`, and `myarray3`."
   ]
  },
  {
   "cell_type": "code",
   "execution_count": 9,
   "metadata": {
    "slideshow": {
     "slide_type": "-"
    }
   },
   "outputs": [],
   "source": [
    "myarray1 = np.array([1, 1.0, \"1\", True]) # a list contains four types\n",
    "myarray2 = np.array([1, 1.0, True]) # three types\n",
    "myarray3 = np.array([1, True]) # two types"
   ]
  },
  {
   "cell_type": "markdown",
   "metadata": {
    "slideshow": {
     "slide_type": "subslide"
    }
   },
   "source": [
    "- NumPy arrays can be more than one dimensional.\n",
    "    - You can check the number of dimensions of an array using `np.ndim(myarray)` and the shape of an array using `np.shape(myarray)`.\n",
    "    - You can also use `ndim` and `shape` as a method like `myarray.ndim` and `myarray.shape`. They are attributes to instances.\n",
    "- Two dimensional NumPy arrays are also called 2D NumPy arrays.\n",
    "- Print the number of dimensions and the shape of `np_2d` and `np_3d`.\n",
    "    - Try both `np.ndim(myarray)` and `myarray.ndim`."
   ]
  },
  {
   "cell_type": "code",
   "execution_count": 10,
   "metadata": {
    "slideshow": {
     "slide_type": "-"
    }
   },
   "outputs": [],
   "source": [
    "np_2d = np.array([[1,2,3],[4,5,6]])\n",
    "np_3d = np.array([[[1,2,3],[4,5,6]],[[7,8,9],[10,11,12]]])"
   ]
  },
  {
   "cell_type": "markdown",
   "metadata": {
    "slideshow": {
     "slide_type": "subslide"
    }
   },
   "source": [
    "- To access each element, use `myarray[]`, `myarray[][]`, etc.\n",
    "    - You can also use `myarray[,]`.\n",
    "- Get the second element in the first array in `np_2d`.\n",
    "    - Try both `myarray[][]` and `myarray[,]`."
   ]
  },
  {
   "cell_type": "code",
   "execution_count": 11,
   "metadata": {
    "slideshow": {
     "slide_type": "-"
    }
   },
   "outputs": [],
   "source": [
    "np_2d = np.array([[1,2,3],[4,5,6]])"
   ]
  },
  {
   "cell_type": "markdown",
   "metadata": {
    "slideshow": {
     "slide_type": "subslide"
    }
   },
   "source": [
    "- Useful functions include: `mean()`, `median()`, `std()`, `sum()`, `zeros()`, `ones()`, `round()`, `corrcoef()`."
   ]
  },
  {
   "cell_type": "code",
   "execution_count": null,
   "metadata": {
    "slideshow": {
     "slide_type": "-"
    }
   },
   "outputs": [],
   "source": [
    "list_2d = [[1,2,3],[4,5,6]]\n",
    "np_2d = np.array(list_2d)\n",
    "print(np.mean(np_2d)) # mean of all elements\n",
    "print(np.mean(np_2d[:,0])) # mean of first column [1,4]\n",
    "print(np.mean(np_2d[0,:])) # mean of first row [1,2,3]\n",
    "\n",
    "myzeros = np.zeros((2, 3, 4)) # make an array with zeros\n",
    "print(myzeros)\n",
    "\n",
    "np_gender = np.array([\"male\",\"female\",\"male\",\"male\",\"female\"])\n",
    "np_heights = np.array([191,160,185,190,170])\n",
    "np_median_mheights = np.median(np_heights[np_gender == \"male\"]) # median of male heights\n",
    "np_median_fheights = np.median(np_heights[np_gender == \"female\"]) # median of female heights\n",
    "print(\"male median heights: \", np_median_mheights, \" female median heights: \", np_median_fheights)\n",
    "\n",
    "x = np.round(np.random.normal(1.75,0.20,50),2) # generate random values with mean = 1.75, std = 0.20, obs.= 50 and round them to two decimal places.\n",
    "y = np.round(np.random.normal(65.32,15.0,50),2)\n",
    "print(x)\n",
    "print(y)\n",
    "print(np.corrcoef(x,y)) # correlation of x and y"
   ]
  },
  {
   "cell_type": "markdown",
   "metadata": {
    "slideshow": {
     "slide_type": "subslide"
    }
   },
   "source": [
    "- Some NumPy functions such as `np.sum()` are faster than generic functions such as `sum()` if data are already a NumPy array."
   ]
  },
  {
   "cell_type": "code",
   "execution_count": null,
   "metadata": {
    "slideshow": {
     "slide_type": "-"
    }
   },
   "outputs": [],
   "source": [
    "list_2d = [[1,2,3],[4,5,6]]\n",
    "np_2d = np.array(list_2d)\n",
    "print(np.sum(np_2d)) # sum of all elements using NumPy sum()\n",
    "print(np.sum(list_2d))  # you can apply NumPy sum() for lists (not recommended)\n",
    "print(sum([sum(x) for x in list_2d])) # sum of all elements using generic sum()"
   ]
  },
  {
   "cell_type": "markdown",
   "metadata": {
    "slideshow": {
     "slide_type": "slide"
    }
   },
   "source": [
    "## 10. pandas\n",
    "- pandas is a very useful Python package made for handling data. It's built on NumPy.\n",
    "- (pandas should have already beeen installed when you have installed Python using Anaconda. If not, open Command Prompt, then type `pip3 install pandas` (for Python 3) or `pip install pandas` (for Python 2) to manually install pandas. For Anaconda users, use `conda install pandas` for installing and updating pandas."
   ]
  },
  {
   "cell_type": "code",
   "execution_count": 4,
   "metadata": {
    "slideshow": {
     "slide_type": "-"
    }
   },
   "outputs": [],
   "source": [
    "import pandas as pd"
   ]
  },
  {
   "cell_type": "markdown",
   "metadata": {
    "slideshow": {
     "slide_type": "subslide"
    }
   },
   "source": [
    "- You can import csv data (i.e., comma separated data) using `pd.read_table()`. This function automatically set the data type as pandas DataFrame.\n",
    "    - Be sure to include `sep=','` for csv files. Default is `sep=\\t`.\n",
    "    - For tsv data (i.e., tab separated data), do not need to include any `sep` option. If you want, you can write `sep='\\t'` (where `\\` is a backslash).\n",
    "    - If you add `index_col = 0` option, pandas recognizes that the first column is an index (identifier)."
   ]
  },
  {
   "cell_type": "markdown",
   "metadata": {
    "slideshow": {
     "slide_type": "subslide"
    }
   },
   "source": [
    "- The following commands read `cars.csv` and `cars.txt` stored in your local repository.\n",
    "    - If your data are stored in another place, you need to specify the path."
   ]
  },
  {
   "cell_type": "code",
   "execution_count": null,
   "metadata": {
    "slideshow": {
     "slide_type": "-"
    }
   },
   "outputs": [],
   "source": [
    "mycars = pd.read_table('cars.csv', sep=',')\n",
    "print(mycars)\n",
    "print(type(mycars))\n",
    "mycars = pd.read_csv('cars.csv', sep=',', index_col = 0)\n",
    "print(mycars)\n",
    "mycars = pd.read_table('cars.txt', index_col = 0)\n",
    "print(mycars)"
   ]
  },
  {
   "cell_type": "markdown",
   "metadata": {
    "slideshow": {
     "slide_type": "subslide"
    }
   },
   "source": [
    "- To get the shape of a data frame, use `df.shape` or `df.info()`.\n",
    "    - To get the number of rows in a data frame, use `len()`. For columns, use `len(df.columns)`.\n",
    "    - To get the number of elements, use `df.size`."
   ]
  },
  {
   "cell_type": "code",
   "execution_count": null,
   "metadata": {
    "slideshow": {
     "slide_type": "-"
    }
   },
   "outputs": [],
   "source": [
    "mycars = pd.read_table('cars.csv', sep=',', index_col = 0)\n",
    "print(mycars.info())\n",
    "print(mycars.shape)\n",
    "print(len(mycars))\n",
    "print(len(mycars.columns))\n",
    "print(mycars.size)"
   ]
  },
  {
   "cell_type": "markdown",
   "metadata": {
    "slideshow": {
     "slide_type": "subslide"
    }
   },
   "source": [
    "- To get a sumary table, use `df.describe()`."
   ]
  },
  {
   "cell_type": "code",
   "execution_count": null,
   "metadata": {
    "slideshow": {
     "slide_type": "-"
    }
   },
   "outputs": [],
   "source": [
    "mycars = pd.read_table('cars.csv', sep=',', index_col = 0)\n",
    "print(mycars.describe())"
   ]
  },
  {
   "cell_type": "markdown",
   "metadata": {
    "slideshow": {
     "slide_type": "subslide"
    }
   },
   "source": [
    "- To get the index, use `df.index` or `df.index.values`.\n",
    "    - To check whether the index is unique, use `df.index.is_unique`.\n",
    "- To get column names, use `df.columns`.\n",
    "- To show values as a NumPy ndarray, use `df.values`.\n",
    "- Get the index and column names of `mycars`. Check whether the index is unique.\n",
    "- Check whether column names of `mycars` include \"country\"."
   ]
  },
  {
   "cell_type": "code",
   "execution_count": 106,
   "metadata": {
    "slideshow": {
     "slide_type": "-"
    }
   },
   "outputs": [],
   "source": [
    "mycars = pd.read_table('cars.csv', sep=',', index_col = 0)"
   ]
  },
  {
   "cell_type": "markdown",
   "metadata": {
    "slideshow": {
     "slide_type": "subslide"
    }
   },
   "source": [
    "- To check whether a column or the index contains duplicated values, use `df.duplicated()`.\n",
    "    - It's useful to combine it with `.any()` as `df.duplicated().any()`.\n",
    "- Check whether the index of `mycars` contains any duplicated values.\n",
    "- Check whether the country column of `mycars` contains any duplicated values."
   ]
  },
  {
   "cell_type": "code",
   "execution_count": 113,
   "metadata": {
    "slideshow": {
     "slide_type": "-"
    }
   },
   "outputs": [],
   "source": [
    "mycars = pd.read_table('cars.csv', sep=',', index_col = 0)"
   ]
  },
  {
   "cell_type": "markdown",
   "metadata": {
    "slideshow": {
     "slide_type": "subslide"
    }
   },
   "source": [
    "- To get unique values, use `df.unique()`.\n",
    "    - This is different from `df.is_unique()`, which returns a boolean.\n",
    "- Get unique values in the country column of `mycars`."
   ]
  },
  {
   "cell_type": "code",
   "execution_count": null,
   "metadata": {
    "slideshow": {
     "slide_type": "-"
    }
   },
   "outputs": [],
   "source": [
    "mycars = pd.read_table('cars.csv', sep=',', index_col = 0)"
   ]
  },
  {
   "cell_type": "markdown",
   "metadata": {
    "slideshow": {
     "slide_type": "subslide"
    }
   },
   "source": [
    "### - Get elements\n",
    "- To access each element, you can use `df[]`.\n",
    "    - To slice rows, use `df[:]`.\n",
    "    - However, you cannot use `df[:]` for columns!!!\n",
    "- Instead, you can directly write like `df.column_name`.    \n",
    "- `df[]` and `df[[]]` are different.\n",
    "    - `df[]` returns pandas Series (1D)\n",
    "    - `df[[]]` returns pandas DataFrame (2D, a dict-like container for Series objects)"
   ]
  },
  {
   "cell_type": "code",
   "execution_count": null,
   "metadata": {
    "slideshow": {
     "slide_type": "subslide"
    }
   },
   "outputs": [],
   "source": [
    "mycars = pd.read_table('cars.csv', sep=',', index_col = 0)\n",
    "# get columns\n",
    "print(mycars['country']) \n",
    "print(mycars.country) \n",
    "print(mycars[['country']])\n",
    "print(type(mycars['country']))\n",
    "print(type(mycars[['country']]))\n",
    "print(mycars[['country','drives_right']]) # get two columns\n",
    "# print(mycars['country','drives_right']) # this returns an error\n",
    "# get rows\n",
    "print(mycars[0:2])"
   ]
  },
  {
   "cell_type": "markdown",
   "metadata": {
    "slideshow": {
     "slide_type": "subslide"
    }
   },
   "source": [
    "- To get first few rows and last few rows easily, use `df.head` and `df.tail`, respectively."
   ]
  },
  {
   "cell_type": "code",
   "execution_count": null,
   "metadata": {
    "slideshow": {
     "slide_type": "-"
    }
   },
   "outputs": [],
   "source": [
    "mycars = pd.read_table('cars.csv', sep=',', index_col = 0)\n",
    "print(mycars)\n",
    "print(mycars.head(2)) # first 2 rows\n",
    "print(mycars.tail(2)) # last 2 rows"
   ]
  },
  {
   "cell_type": "markdown",
   "metadata": {
    "slideshow": {
     "slide_type": "subslide"
    }
   },
   "source": [
    "- You can use operators like `==`, `>` and `<=` for conditions."
   ]
  },
  {
   "cell_type": "code",
   "execution_count": null,
   "metadata": {
    "slideshow": {
     "slide_type": "-"
    }
   },
   "outputs": [],
   "source": [
    "mycars = pd.read_table('cars.csv', sep=',', index_col = 0)\n",
    "print(mycars[mycars['country'] == \"Australia\"])"
   ]
  },
  {
   "cell_type": "markdown",
   "metadata": {
    "slideshow": {
     "slide_type": "subslide"
    }
   },
   "source": [
    "- Useful indexers for selection are `loc` and `iloc`.\n",
    "    - `loc` uses indices.\n",
    "    - `iloc` uses integers.\n",
    "- For selecting a row, use `loc[]` or `loc[[]]` (`iloc[]` or `iloc[[]]`). You get Series and DataFrame, respectively.\n",
    "- For selecting a column, use `loc[:,[]]` (`iloc[:,[]]`).\n",
    "- With these indexers, operation gets similar to what you usually do in R."
   ]
  },
  {
   "cell_type": "code",
   "execution_count": null,
   "metadata": {
    "slideshow": {
     "slide_type": "subslide"
    }
   },
   "outputs": [],
   "source": [
    "mycars = pd.read_table('cars.csv', sep=',', index_col = 0)\n",
    "print(mycars)\n",
    "# select rows\n",
    "print(mycars.loc['RU'])\n",
    "print(mycars.loc[['RU']])\n",
    "print(type(mycars.loc['RU']))\n",
    "print(type(mycars.loc[['RU']]))\n",
    "#print(mycars.iloc[[4]])\n",
    "\n",
    "# select columns\n",
    "print(mycars.loc[:,'country'])  \n",
    "print(mycars.loc[:,['country']])\n",
    "print(mycars.loc[:,['country','drives_right']]) # select more than one column\n",
    "#print(mycars.iloc[:,[1,2]])\n",
    "#print(mycars.iloc[:,1:2])\n",
    "\n",
    "# select rows and columns\n",
    "print(mycars.loc[['RU'],['country','drives_right']])\n",
    "#print(mycars.iloc[4,1:3])"
   ]
  },
  {
   "cell_type": "markdown",
   "metadata": {
    "slideshow": {
     "slide_type": "subslide"
    }
   },
   "source": [
    " - If you combine these methods, you can incorporate more advanced conditions to show elements.\n",
    "     - You can also use `df.query()` for subsetting rows.\n",
    "     - You can also use `df.filter()` for subsetting columns and rows."
   ]
  },
  {
   "cell_type": "code",
   "execution_count": null,
   "metadata": {
    "slideshow": {
     "slide_type": "-"
    }
   },
   "outputs": [],
   "source": [
    "mycars = pd.read_table('cars.csv', sep=',', index_col = 0)\n",
    "# subsetting rows\n",
    "print(mycars.loc[(mycars['cars_per_cap'] > 600) & (mycars['drives_right'] == True), 'country']) # show the names of countries which satisfy the condition\n",
    "print(mycars.query(\"cars_per_cap > 600 & drives_right == True\").country)  # using pandas' query\n",
    "# subsetting columns\n",
    "print(mycars.loc[:,((mycars.columns != 'drives_right') & (mycars.columns != 'country'))])\n",
    "drops = ['drives_right','country']\n",
    "print(mycars.loc[:,(x for x in mycars.columns if x not in drops)]) # using an if-statement\n",
    "keeps = ['drives_right','country']\n",
    "print(mycars.filter(keeps))  # using pandas' filter"
   ]
  },
  {
   "cell_type": "markdown",
   "metadata": {
    "slideshow": {
     "slide_type": "subslide"
    }
   },
   "source": [
    "### - Change contents\n",
    "- Delete a column/row:\n",
    "    - Deletion is an option. Getting a subset is another option.\n",
    "    - To delete a column, use `del()` or `df.drop( , axis=1)`. (`axis=1` for deleting columns. `axis=0` is default.)\n",
    "    - To delete a row, use `df.drop()`.\n",
    "- Delete \"cars_per_cap\" in `mycars` using `del()`.\n",
    "- Delete the \"country\" column in `mycars` using `df.drop( , axis=1)`.\n",
    "- Delete the \"US\" row in `mycars` using `df.drop()`."
   ]
  },
  {
   "cell_type": "code",
   "execution_count": null,
   "metadata": {
    "slideshow": {
     "slide_type": "-"
    }
   },
   "outputs": [],
   "source": [
    "mycars = pd.read_table('cars.csv', sep=',', index_col = 0)"
   ]
  },
  {
   "cell_type": "markdown",
   "metadata": {
    "slideshow": {
     "slide_type": "subslide"
    }
   },
   "source": [
    "- Add a new column with values, use `df['colname'] = values`."
   ]
  },
  {
   "cell_type": "code",
   "execution_count": null,
   "metadata": {
    "slideshow": {
     "slide_type": "-"
    }
   },
   "outputs": [],
   "source": [
    "mycars = pd.read_table('cars.csv', sep=',', index_col = 0)\n",
    "mycars['one'] = 1\n",
    "print(mycars)"
   ]
  },
  {
   "cell_type": "markdown",
   "metadata": {
    "slideshow": {
     "slide_type": "subslide"
    }
   },
   "source": [
    "- To sort, use `df.sort_values(by=column_names)`.\n",
    "    - With `df.sort_index()`, you car sort data using the index.\n",
    "- Sort `mycars` by \"cars_per_cap.\"\n",
    "- Sort `mycars` by \"drives_right\" and \"country.\"\n",
    "- Sort `mycars` by the index."
   ]
  },
  {
   "cell_type": "code",
   "execution_count": 42,
   "metadata": {
    "slideshow": {
     "slide_type": "-"
    }
   },
   "outputs": [],
   "source": [
    "mycars = pd.read_table('cars.csv', sep=',', index_col = 0)"
   ]
  },
  {
   "cell_type": "markdown",
   "metadata": {
    "slideshow": {
     "slide_type": "subslide"
    }
   },
   "source": [
    "- To transpose data, use `df.T`."
   ]
  },
  {
   "cell_type": "code",
   "execution_count": null,
   "metadata": {
    "slideshow": {
     "slide_type": "-"
    }
   },
   "outputs": [],
   "source": [
    "mycars = pd.read_table('cars.csv', sep=',', index_col = 0)\n",
    "print(mycars)\n",
    "print(mycars.T)"
   ]
  },
  {
   "cell_type": "markdown",
   "metadata": {
    "slideshow": {
     "slide_type": "subslide"
    }
   },
   "source": [
    "- To reshape, use `df.pivot()`, `df.stack()`, and `df.unstack()`."
   ]
  },
  {
   "cell_type": "code",
   "execution_count": null,
   "metadata": {
    "slideshow": {
     "slide_type": "-"
    }
   },
   "outputs": [],
   "source": [
    "col1 = [\"a\",\"a\",\"b\",\"b\"]\n",
    "col2 = [1,2,1,2]\n",
    "col3 = [0.5,0.2,0.4,0.1]\n",
    "col4 = [True,False,False,True]\n",
    "mydf = pd.DataFrame({'id':col1,'time':col2,'varA':col3,'varB':col4}) # make a dataframe\n",
    "mydf.set_index(['id','time']) # set the index\n",
    "print(mydf)\n",
    "mydf2 = mydf.pivot(index='id', columns='time')\n",
    "print(mydf2)\n",
    "mydf3 = mydf2.stack()\n",
    "print(mydf3)\n",
    "mydf4 = mydf3.unstack()\n",
    "print(mydf4)"
   ]
  },
  {
   "cell_type": "markdown",
   "metadata": {
    "slideshow": {
     "slide_type": "subslide"
    }
   },
   "source": [
    "- Appendix: Use `pd.melt()` to show data in an alternative form."
   ]
  },
  {
   "cell_type": "code",
   "execution_count": null,
   "metadata": {
    "slideshow": {
     "slide_type": "-"
    }
   },
   "outputs": [],
   "source": [
    "col1 = [\"a\",\"a\",\"b\",\"b\"]\n",
    "col2 = [1,2,1,2]\n",
    "col3 = [0.5,0.2,0.4,0.1]\n",
    "col4 = [True,False,False,True]\n",
    "mydf = pd.DataFrame({'id':col1,'time':col2,'varA':col3,'varB':col4}) \n",
    "mydf.set_index(['id','time'])\n",
    "print(mydf)\n",
    "print(mydf.melt(id_vars=['id','time']))"
   ]
  },
  {
   "cell_type": "markdown",
   "metadata": {
    "slideshow": {
     "slide_type": "subslide"
    }
   },
   "source": [
    "- To rename column names, use `df.rename(columns = {old_name: new_name})`.\n",
    "    - To rename multiple column names, use\n",
    "```python\n",
    "new_cols = ['new1','new2']\n",
    "df.rename(columns=dict(zip(df.columns[[loc1,loc2]], new_cols)))\n",
    "```\n",
    "- To rename the index, use `df.rename(index = {old_name: new_name})`.\n",
    "- Rename the \"country\" column to \"ctry.\"\n",
    "- Rename the \"US\" index to \"USA.\""
   ]
  },
  {
   "cell_type": "code",
   "execution_count": 44,
   "metadata": {},
   "outputs": [],
   "source": [
    "mycars = pd.read_table('cars.csv', sep=',', index_col = 0)"
   ]
  },
  {
   "cell_type": "markdown",
   "metadata": {
    "slideshow": {
     "slide_type": "subslide"
    }
   },
   "source": [
    "- To replace values, use `df.replace(old,new)`.\n",
    "    - To replace multiple values, use `df.replace({old1:new1,old2:new2})`\n",
    "    - To replace specific letters in a string, use `str.replace()`."
   ]
  },
  {
   "cell_type": "code",
   "execution_count": null,
   "metadata": {
    "slideshow": {
     "slide_type": "-"
    }
   },
   "outputs": [],
   "source": [
    "mycars = pd.read_table('cars.csv', sep=',', index_col = 0)\n",
    "print(mycars)\n",
    "mycars['country'] = mycars['country'].replace({\"United States\":\"U.S.A\"}) # replace United States to U.S.A.\n",
    "# mycars.replace({'United States':'U.S.A.'}, inplace = True)\n",
    "print(mycars)\n",
    "mycars['country'] = mycars['country'].str.replace(\"ia\",\"IA\") # replace ia to IA.\n",
    "print(mycars)"
   ]
  },
  {
   "cell_type": "markdown",
   "metadata": {
    "slideshow": {
     "slide_type": "subslide"
    }
   },
   "source": [
    "### - Computation\n",
    "- Calculation is based on the index and column names."
   ]
  },
  {
   "cell_type": "code",
   "execution_count": null,
   "metadata": {
    "slideshow": {
     "slide_type": "-"
    }
   },
   "outputs": [],
   "source": [
    "mycars = pd.read_table('cars.csv', sep=',', index_col = 0)\n",
    "mycars['one'] = 1 # add a new column\n",
    "print(mycars)\n",
    "# take a subset\n",
    "mycars_new = mycars.drop('US') # drop 'US' row\n",
    "mycars_new = mycars_new.drop('one',axis=1) # drop 'one' column\n",
    "# add mycars_new to mycars\n",
    "sum_mycars = mycars + mycars_new \n",
    "print(sum_mycars)"
   ]
  },
  {
   "cell_type": "markdown",
   "metadata": {
    "slideshow": {
     "slide_type": "subslide"
    }
   },
   "source": [
    "- To take column/row sums, use `df.sum()`.\n",
    "- To take column/row means, use`df.mean()`."
   ]
  },
  {
   "cell_type": "code",
   "execution_count": null,
   "metadata": {
    "slideshow": {
     "slide_type": "-"
    }
   },
   "outputs": [],
   "source": [
    "mydf = pd.DataFrame(np.arange(9.).reshape((3, 3)), columns=list('abc'), index=['x','y','z']) # make a dataframe\n",
    "mydf = mydf.replace(6, np.nan) # replace 6 with NaN\n",
    "print(mydf)\n",
    "print(mydf.sum()) # sum by column\n",
    "print(mydf.sum(axis=1)) # sum by row"
   ]
  },
  {
   "cell_type": "markdown",
   "metadata": {
    "slideshow": {
     "slide_type": "subslide"
    }
   },
   "source": [
    "- Missing values are ignored in calculation."
   ]
  },
  {
   "cell_type": "code",
   "execution_count": null,
   "metadata": {
    "slideshow": {
     "slide_type": "-"
    }
   },
   "outputs": [],
   "source": [
    "mycars = pd.read_table('cars.csv', sep=',', index_col = 0)\n",
    "mycars_nan = mycars.replace(45, np.nan) # replace Egypt's cars/cap (45) with NaN\n",
    "print(mycars_nan)\n",
    "sum_cpc = mycars.loc[:,['cars_per_cap']] + mycars_nan.loc[:,['cars_per_cap']] # sum cars/cap\n",
    "print(sum_cpc)"
   ]
  },
  {
   "cell_type": "markdown",
   "metadata": {
    "slideshow": {
     "slide_type": "subslide"
    }
   },
   "source": [
    "### - Treat missing values\n",
    "- To check if data contain specific values, use `df.isin()`.\n",
    "    - To check if data contain NaN, use `df.isna()`.\n",
    "- It's useful to combine them with `.any()`.\n",
    "- Check whether the country column in `mycars` contains \"Japan.\"\n",
    "- Check whether the country column in `mycars` contains NaN."
   ]
  },
  {
   "cell_type": "code",
   "execution_count": 51,
   "metadata": {
    "slideshow": {
     "slide_type": "-"
    }
   },
   "outputs": [],
   "source": [
    "mycars = pd.read_table('cars.csv', sep=',', index_col = 0)"
   ]
  },
  {
   "cell_type": "markdown",
   "metadata": {
    "slideshow": {
     "slide_type": "subslide"
    }
   },
   "source": [
    "- There is no single answer to deal with missing values.\n",
    "    - drop: `df.dropna()`\n",
    "    - replace: `df.fillna()`\n",
    "- Drop a row/column if at least one value is missing.\n",
    "    - To select a specific column, use `subset`."
   ]
  },
  {
   "cell_type": "code",
   "execution_count": null,
   "metadata": {
    "slideshow": {
     "slide_type": "-"
    }
   },
   "outputs": [],
   "source": [
    "mydata = pd.DataFrame([[3,4,5],[1,2,np.nan],[3,np.nan,np.nan]])\n",
    "print(mydata)\n",
    "print(\"Drop rows containing NaN.\")\n",
    "mydata1 = mydata.dropna() \n",
    "print(mydata1)\n",
    "print(\"Drop rows if column 1 has NaN.\")\n",
    "mydata2 = mydata.dropna(subset=[1]) \n",
    "print(mydata2)\n",
    "print(\"Drop columns containing NaN.\")\n",
    "mydata3 = mydata.dropna(axis=1) \n",
    "print(mydata3)"
   ]
  },
  {
   "cell_type": "markdown",
   "metadata": {
    "slideshow": {
     "slide_type": "subslide"
    }
   },
   "source": [
    "- Drop a row/column if all values are missing."
   ]
  },
  {
   "cell_type": "code",
   "execution_count": null,
   "metadata": {
    "slideshow": {
     "slide_type": "-"
    }
   },
   "outputs": [],
   "source": [
    "mydata1 = pd.DataFrame([[3,4,np.nan],[np.nan,2,np.nan],[np.nan,np.nan,np.nan]])\n",
    "print(mydata1)\n",
    "mydata2 = mydata1.dropna(how='all')\n",
    "print(mydata2)\n",
    "mydata3 = mydata2.dropna(how='all', axis = 1)\n",
    "print(mydata3)"
   ]
  },
  {
   "cell_type": "markdown",
   "metadata": {
    "slideshow": {
     "slide_type": "subslide"
    }
   },
   "source": [
    "- Replace NaN with another value."
   ]
  },
  {
   "cell_type": "code",
   "execution_count": null,
   "metadata": {
    "slideshow": {
     "slide_type": "-"
    }
   },
   "outputs": [],
   "source": [
    "mydata = pd.DataFrame([[3,4,np.nan],[np.nan,2,np.nan],[np.nan,np.nan,np.nan]])\n",
    "print(mydata)\n",
    "mydata_fillna = mydata.fillna(0) # replace with zero\n",
    "print(mydata_fillna)"
   ]
  },
  {
   "cell_type": "markdown",
   "metadata": {
    "slideshow": {
     "slide_type": "subslide"
    }
   },
   "source": [
    "- To check if data contain np.inf and - np.inf, use `np.isinf()`."
   ]
  },
  {
   "cell_type": "code",
   "execution_count": null,
   "metadata": {
    "slideshow": {
     "slide_type": "-"
    }
   },
   "outputs": [],
   "source": [
    "df_inf = pd.DataFrame([1, 2, np.inf,-np.inf])\n",
    "print(df_inf)\n",
    "print(np.isinf(df_inf))\n",
    "print(np.isinf(df_inf).any())"
   ]
  },
  {
   "cell_type": "markdown",
   "metadata": {
    "slideshow": {
     "slide_type": "subslide"
    }
   },
   "source": [
    "### - Merge\n",
    "- To merge datasets, use `merge()`."
   ]
  },
  {
   "cell_type": "code",
   "execution_count": null,
   "metadata": {
    "slideshow": {
     "slide_type": "-"
    }
   },
   "outputs": [],
   "source": [
    "mydata1 = pd.DataFrame({'key': [\"a\",\"b\",\"c\",\"d\"], 'data1': range(4)})\n",
    "mydata2 = pd.DataFrame({'key': [\"a\",\"b\",\"e\"], 'data2': range(3)})\n",
    "print(mydata1)\n",
    "print(mydata2)\n",
    "inner = pd.merge(mydata1, mydata2, on='key') # inner join (intersection)\n",
    "outer = pd.merge(mydata1, mydata2, on='key', how='outer') # outer join (union)\n",
    "right = pd.merge(mydata1, mydata2, on='key', how='right') # right join (keep right data)\n",
    "left  = pd.merge(mydata1, mydata2, on='key', how='left') # left join (keep left data)\n",
    "print(inner)\n",
    "print(outer)\n",
    "print(right)\n",
    "print(left)"
   ]
  },
  {
   "cell_type": "markdown",
   "metadata": {
    "slideshow": {
     "slide_type": "subslide"
    }
   },
   "source": [
    "- You can merge even if key names are different."
   ]
  },
  {
   "cell_type": "code",
   "execution_count": null,
   "metadata": {
    "slideshow": {
     "slide_type": "-"
    }
   },
   "outputs": [],
   "source": [
    "mydata1 = pd.DataFrame({'key1': [\"a\",\"b\",\"c\",\"d\"], 'data1': range(4)})\n",
    "mydata2 = pd.DataFrame({'key2': [\"a\",\"b\",\"e\"], 'data2': range(3)})\n",
    "print(mydata1)\n",
    "print(mydata2)\n",
    "outer = pd.merge(mydata1, mydata2, left_on='key1', right_on='key2', how='outer')  \n",
    "print(outer)"
   ]
  },
  {
   "cell_type": "markdown",
   "metadata": {
    "slideshow": {
     "slide_type": "subslide"
    }
   },
   "source": [
    "- You can use more than one key."
   ]
  },
  {
   "cell_type": "code",
   "execution_count": null,
   "metadata": {
    "slideshow": {
     "slide_type": "-"
    }
   },
   "outputs": [],
   "source": [
    "mydata1 = pd.DataFrame({'id': [\"a\",\"a\",\"b\",\"b\"], 't': [\"1\",\"2\",\"1\",\"2\"], 'data1': range(4)})\n",
    "mydata2 = pd.DataFrame({'id': [\"a\",\"a\"], 't': [\"1\",\"2\"], 'data2': range(2)})\n",
    "print(mydata1)\n",
    "print(mydata2)\n",
    "outer = pd.merge(mydata1, mydata2, on=['id', 't'], how='outer')  \n",
    "print(outer)"
   ]
  },
  {
   "cell_type": "markdown",
   "metadata": {
    "slideshow": {
     "slide_type": "subslide"
    }
   },
   "source": [
    "- What happens if both datasets have the same column name but the contents are different?"
   ]
  },
  {
   "cell_type": "code",
   "execution_count": null,
   "metadata": {
    "slideshow": {
     "slide_type": "-"
    }
   },
   "outputs": [],
   "source": [
    "mydata1 = pd.DataFrame({'key': [\"a\",\"b\",\"c\",\"d\"], 'data': range(4)})\n",
    "mydata2 = pd.DataFrame({'key': [\"a\",\"b\",\"e\"], 'data': range(3)})\n",
    "print(mydata1)\n",
    "print(mydata2)\n",
    "outer = pd.merge(mydata1, mydata2, on='key', how='outer')\n",
    "print(outer)\n",
    "outer = pd.merge(mydata1, mydata2, on='key', how='outer', suffixes=('_mydata1','_mydata2')) # rename duplicated column names\n",
    "print(outer)"
   ]
  },
  {
   "cell_type": "markdown",
   "metadata": {
    "slideshow": {
     "slide_type": "subslide"
    }
   },
   "source": [
    "- You can merge using indices."
   ]
  },
  {
   "cell_type": "code",
   "execution_count": null,
   "metadata": {},
   "outputs": [],
   "source": [
    "mydata1 = pd.DataFrame({'key': [\"a\",\"b\",\"c\",\"d\"], 'data1': range(4)})\n",
    "mydata2 = pd.DataFrame({'data2': range(3)}, index=['a','b','e'])\n",
    "print(mydata1)\n",
    "print(mydata2)\n",
    "outer = pd.merge(mydata1, mydata2, left_on='key', right_index=True, how='outer') # use 'key' column for the left data and the index for the right data \n",
    "print(outer)"
   ]
  }
 ],
 "metadata": {
  "celltoolbar": "Slideshow",
  "kernelspec": {
   "display_name": "Python 3",
   "language": "python",
   "name": "python3"
  },
  "language_info": {
   "codemirror_mode": {
    "name": "ipython",
    "version": 3
   },
   "file_extension": ".py",
   "mimetype": "text/x-python",
   "name": "python",
   "nbconvert_exporter": "python",
   "pygments_lexer": "ipython3",
   "version": "3.6.4"
  }
 },
 "nbformat": 4,
 "nbformat_minor": 2
}
